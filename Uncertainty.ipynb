{
 "cells": [
  {
   "cell_type": "code",
   "execution_count": 2,
   "metadata": {},
   "outputs": [],
   "source": [
    "import numpy as np\n",
    "import matplotlib.pyplot as plt\n"
   ]
  },
  {
   "cell_type": "code",
   "execution_count": 27,
   "metadata": {},
   "outputs": [
    {
     "name": "stdout",
     "output_type": "stream",
     "text": [
      "--2020-12-11 13:53:37--  https://jpata.web.cern.ch/jpata/mlpf/test_data/pred_2020_12_11.npz\n",
      "Resolving jpata.web.cern.ch (jpata.web.cern.ch)... 137.138.31.235, 188.185.87.216, 188.185.90.87, ...\n",
      "Connecting to jpata.web.cern.ch (jpata.web.cern.ch)|137.138.31.235|:443... connected.\n",
      "HTTP request sent, awaiting response... 200 OK\n",
      "Length: 69632996 (66M)\n",
      "Saving to: ‘pred_2020_12_11.npz.4’\n",
      "\n",
      "pred_2020_12_11.npz 100%[===================>]  66,41M  7,39MB/s    in 8,6s    \n",
      "\n",
      "2020-12-11 13:53:46 (7,71 MB/s) - ‘pred_2020_12_11.npz.4’ saved [69632996/69632996]\n",
      "\n"
     ]
    }
   ],
   "source": [
    "!wget https://jpata.web.cern.ch/jpata/mlpf/test_data/pred_2020_12_11.npz\n",
    "    "
   ]
  },
  {
   "cell_type": "code",
   "execution_count": 32,
   "metadata": {},
   "outputs": [],
   "source": [
    "fi = np.load(\"pred_2020_12_11.npz.4\")\n",
    "ygen = fi[\"ygen\"]\n",
    "ycand = fi[\"ycand\"]\n",
    "ypred = fi[\"ypred\"]\n",
    "ypred_raw = fi[\"ypred_raw\"]"
   ]
  },
  {
   "cell_type": "code",
   "execution_count": 31,
   "metadata": {},
   "outputs": [
    {
     "data": {
      "text/plain": [
       "['ygen', 'ycand', 'ypred', 'ypred_raw']"
      ]
     },
     "execution_count": 31,
     "metadata": {},
     "output_type": "execute_result"
    }
   ],
   "source": [
    "list(fi.keys())"
   ]
  },
  {
   "cell_type": "code",
   "execution_count": 35,
   "metadata": {},
   "outputs": [
    {
     "name": "stdout",
     "output_type": "stream",
     "text": [
      "5.05177\n",
      "[ 1.          0.85946208  1.68955398  1.67227876  0.79879701  0.5905838\n",
      " -1.8718394 ]\n",
      "[-6.844067   8.4386835 -3.3277202 -5.2895026  4.996628  -3.5732553]\n"
     ]
    }
   ],
   "source": [
    "print(ygen[0][0][0])\n",
    "print(ypred[0][0])\n",
    "print(ypred_raw[0][0])"
   ]
  },
  {
   "cell_type": "code",
   "execution_count": null,
   "metadata": {},
   "outputs": [],
   "source": [
    "#KÕigepealt vaja teha probleem Binariks"
   ]
  },
  {
   "cell_type": "code",
   "execution_count": null,
   "metadata": {},
   "outputs": [],
   "source": []
  },
  {
   "cell_type": "code",
   "execution_count": null,
   "metadata": {},
   "outputs": [],
   "source": []
  }
 ],
 "metadata": {
  "kernelspec": {
   "display_name": "Python 3",
   "language": "python",
   "name": "python3"
  },
  "language_info": {
   "codemirror_mode": {
    "name": "ipython",
    "version": 3
   },
   "file_extension": ".py",
   "mimetype": "text/x-python",
   "name": "python",
   "nbconvert_exporter": "python",
   "pygments_lexer": "ipython3",
   "version": "3.7.6"
  }
 },
 "nbformat": 4,
 "nbformat_minor": 4
}
