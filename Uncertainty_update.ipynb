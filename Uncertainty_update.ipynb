{
 "cells": [
  {
   "cell_type": "code",
   "execution_count": 2,
   "metadata": {},
   "outputs": [],
   "source": [
    "import numpy as np\n",
    "import matplotlib.pyplot as plt\n"
   ]
  },
  {
   "cell_type": "code",
   "execution_count": 27,
   "metadata": {},
   "outputs": [
    {
     "name": "stdout",
     "output_type": "stream",
     "text": [
      "--2020-12-11 13:53:37--  https://jpata.web.cern.ch/jpata/mlpf/test_data/pred_2020_12_11.npz\n",
      "Resolving jpata.web.cern.ch (jpata.web.cern.ch)... 137.138.31.235, 188.185.87.216, 188.185.90.87, ...\n",
      "Connecting to jpata.web.cern.ch (jpata.web.cern.ch)|137.138.31.235|:443... connected.\n",
      "HTTP request sent, awaiting response... 200 OK\n",
      "Length: 69632996 (66M)\n",
      "Saving to: ‘pred_2020_12_11.npz.4’\n",
      "\n",
      "pred_2020_12_11.npz 100%[===================>]  66,41M  7,39MB/s    in 8,6s    \n",
      "\n",
      "2020-12-11 13:53:46 (7,71 MB/s) - ‘pred_2020_12_11.npz.4’ saved [69632996/69632996]\n",
      "\n"
     ]
    }
   ],
   "source": [
    "!wget https://jpata.web.cern.ch/jpata/mlpf/test_data/pred_2020_12_11.npz\n",
    "    "
   ]
  },
  {
   "cell_type": "code",
   "execution_count": 32,
   "metadata": {},
   "outputs": [],
   "source": [
    "fi = np.load(\"pred_2020_12_11.npz.4\")\n",
    "ygen = fi[\"ygen\"]\n",
    "ycand = fi[\"ycand\"]\n",
    "ypred = fi[\"ypred\"]\n",
    "ypred_raw = fi[\"ypred_raw\"]"
   ]
  },
  {
   "cell_type": "code",
   "execution_count": 31,
   "metadata": {},
   "outputs": [
    {
     "data": {
      "text/plain": [
       "['ygen', 'ycand', 'ypred', 'ypred_raw']"
      ]
     },
     "execution_count": 31,
     "metadata": {},
     "output_type": "execute_result"
    }
   ],
   "source": [
    "list(fi.keys())"
   ]
  },
  {
   "cell_type": "code",
   "execution_count": 87,
   "metadata": {},
   "outputs": [
    {
     "name": "stdout",
     "output_type": "stream",
     "text": [
      "1.0\n",
      "[ 1.         -0.93207151  0.88258475 -0.49298528  0.62524432 -0.77716577\n",
      " -0.78627753]\n",
      "[-6.844067   8.4386835 -3.3277202 -5.2895026  4.996628  -3.5732553]\n",
      "(array([0., 1., 2., 3., 4., 5.]), array([    22, 352781,  29269, 129511,    146,    271]))\n"
     ]
    }
   ],
   "source": [
    "print(ygen[0][0][0])\n",
    "print(ypred[6][0])\n",
    "print(ypred_raw[0][0])\n",
    "print(np.unique(ypred[:,:,0], return_counts = True))"
   ]
  },
  {
   "cell_type": "code",
   "execution_count": 58,
   "metadata": {},
   "outputs": [],
   "source": [
    "#Classification to binary\n",
    "#Concatenate matricies\n",
    "conc_ygen = np.concatenate(ygen[0:100])\n",
    "conc_ypred= np.concatenate(ypred[0:100])\n",
    "#extract ids\n",
    "ygen_ids=conc_ygen[:,0]\n",
    "ypred_ids=conc_ypred[:,0]\n",
    "\n"
   ]
  },
  {
   "cell_type": "code",
   "execution_count": 69,
   "metadata": {},
   "outputs": [
    {
     "name": "stdout",
     "output_type": "stream",
     "text": [
      "(array([0., 1., 2., 3., 4., 5.], dtype=float32), array([ 50421, 313620,  26770, 120023,    900,    266]))\n",
      "(array([0., 1., 2., 3., 4., 5.], dtype=float32), array([ 50421, 313620,  26770, 120023,    900,    266]))\n",
      "(array([0., 1., 2., 3., 4., 5.]), array([    22, 352781,  29269, 129511,    146,    271]))\n",
      "(array([0., 1., 2., 3., 4., 5.]), array([    22, 352781,  29269, 129511,    146,    271]))\n"
     ]
    }
   ],
   "source": [
    "#Check if uniqueness cheks out\n",
    "print(np.unique(ygen_ids[:], return_counts = True))\n",
    "print(np.unique(ygen[:, :, 0], return_counts=True))\n",
    "print(np.unique(ypred_ids[:], return_counts = True))\n",
    "print(np.unique(ypred[:,:,0], return_counts = True))\n"
   ]
  },
  {
   "cell_type": "code",
   "execution_count": 74,
   "metadata": {},
   "outputs": [
    {
     "name": "stdout",
     "output_type": "stream",
     "text": [
      "(array([0., 1.], dtype=float32), array([ 50421, 461579]))\n",
      "(array([0., 1.]), array([    22, 511978]))\n"
     ]
    }
   ],
   "source": [
    "#There must be 50421 zeroes and 461579 non_zero values in ygen\n",
    "#There must be 22 zeroes and 511978\n",
    "ygen_ids_b=np.where(ygen_ids>0,1,ygen_ids)\n",
    "ypred_ids_b=np.where(ypred_ids>0,1,ypred_ids)\n",
    "print(np.unique(ygen_ids_b[:], return_counts = True))\n",
    "print(np.unique(ypred_ids_b[:], return_counts = True))"
   ]
  },
  {
   "cell_type": "code",
   "execution_count": 82,
   "metadata": {},
   "outputs": [
    {
     "name": "stdout",
     "output_type": "stream",
     "text": [
      "461571\n",
      "50429\n",
      "accuracy: 0.901505859375%\n"
     ]
    }
   ],
   "source": [
    "#Accuracy precentage %\n",
    "\n",
    "right=0\n",
    "wrong=0\n",
    "n_events=len(conc_ygen)#5120*100\n",
    "for i in range(n_events):\n",
    "    if ypred_ids_b[i]==ygen_ids_b[i]:\n",
    "        right += 1\n",
    "    else:\n",
    "        wrong += 1\n",
    "        \n",
    "print(right)\n",
    "print(wrong)\n",
    "print(f'accuracy: {right/n_events}%')\n"
   ]
  },
  {
   "cell_type": "code",
   "execution_count": 94,
   "metadata": {},
   "outputs": [
    {
     "name": "stdout",
     "output_type": "stream",
     "text": [
      "[2.2340883e-07 9.6897906e-01 7.5202106e-06 1.0573985e-06 3.1006204e-02\n",
      " 5.8829551e-06]\n"
     ]
    },
    {
     "data": {
      "text/plain": [
       "0.9999999485872735"
      ]
     },
     "execution_count": 94,
     "metadata": {},
     "output_type": "execute_result"
    }
   ],
   "source": [
    "#Normalize y_raw with softmax operation\n",
    "from scipy.special import softmax\n",
    "test_softmax=softmax(ypred_raw[0][0])\n",
    "print(test_softmax)\n",
    "sum(test)\n",
    "                          "
   ]
  },
  {
   "cell_type": "code",
   "execution_count": 93,
   "metadata": {},
   "outputs": [
    {
     "data": {
      "text/plain": [
       "0.9999999485872735"
      ]
     },
     "execution_count": 93,
     "metadata": {},
     "output_type": "execute_result"
    }
   ],
   "source": [
    "sum(test)"
   ]
  },
  {
   "cell_type": "code",
   "execution_count": null,
   "metadata": {},
   "outputs": [],
   "source": []
  }
 ],
 "metadata": {
  "kernelspec": {
   "display_name": "Python 3",
   "language": "python",
   "name": "python3"
  },
  "language_info": {
   "codemirror_mode": {
    "name": "ipython",
    "version": 3
   },
   "file_extension": ".py",
   "mimetype": "text/x-python",
   "name": "python",
   "nbconvert_exporter": "python",
   "pygments_lexer": "ipython3",
   "version": "3.7.6"
  }
 },
 "nbformat": 4,
 "nbformat_minor": 4
}
